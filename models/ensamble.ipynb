{
 "cells": [
  {
   "cell_type": "code",
   "execution_count": 1,
   "id": "aba1cbf9-867e-4f5d-8285-10cb8404dd90",
   "metadata": {
    "collapsed": false,
    "jupyter": {
     "outputs_hidden": false
    }
   },
   "outputs": [],
   "source": [
    " %load_ext autoreload\n",
    "%autoreload 2"
   ]
  },
  {
   "cell_type": "code",
   "execution_count": 2,
   "id": "1636407c-4c04-441d-9a37-c3fa21144aa2",
   "metadata": {
    "collapsed": false,
    "jupyter": {
     "outputs_hidden": false
    }
   },
   "outputs": [],
   "source": [
    "from pipeline import eval_pipeline, HierarchicalImputer, CoordinateTransformer, WindDirectionTransformer, DropColumnsTransformer, RainTodayTransformer, ExpandDateTransformer, sample, report_results, ShapeDebugger, BinningTransformer, LabelBinarizerPipelineFriendly\n",
    "from persistence import load_or_fit\n",
    "# For data manipulation\n",
    "import pandas as pd\n",
    "import numpy as np\n",
    "import pandas as pd\n",
    "# For visualization\n",
    "import seaborn as sns\n",
    "import matplotlib.pyplot as plt\n",
    "from sklearn.model_selection import train_test_split\n",
    "from sklearn.pipeline import Pipeline\n",
    "from sklearn.impute import SimpleImputer\n",
    "from sklearn.preprocessing import MinMaxScaler, PolynomialFeatures, FunctionTransformer\n",
    "from sklearn.linear_model import LogisticRegression\n",
    "from sklearn.preprocessing import OneHotEncoder\n",
    "from sklearn.compose import ColumnTransformer\n",
    "from sklearn.preprocessing import StandardScaler\n",
    "from sklearn import svm, datasets\n",
    "from sklearn.model_selection import GridSearchCV\n",
    "from sklearn.ensemble import RandomForestClassifier, BaggingClassifier\n",
    "import joblib"
   ]
  },
  {
   "cell_type": "code",
   "execution_count": 3,
   "id": "b6af4a1a-84e6-471c-ad7a-3310b5f9c090",
   "metadata": {
    "collapsed": false,
    "jupyter": {
     "outputs_hidden": false
    }
   },
   "outputs": [
    {
     "name": "stdout",
     "output_type": "stream",
     "text": [
      "Dimension de X_train: (113754, 22)\n",
      "Valores de y_train: 113754\n",
      "Dimension de X_test: (28439, 22)\n",
      "Valores de y_test: 28439\n"
     ]
    }
   ],
   "source": [
    "rains = pd.read_csv('../data/weatherAUS.csv')\n",
    "rains = rains.dropna(subset=['RainTomorrow'])\n",
    "# Convierto la variable 'Date' a formato tipo \"datetime\" de Pandas\n",
    "\n",
    "rains_x = rains.drop(columns=['RainTomorrow'])  # Drop the target column from features\n",
    "rains_y = np.where(rains['RainTomorrow'] == \"Yes\", 1, 0)                 # Target variable\n",
    "\n",
    "# Split the dataset\n",
    "rnd_seed = 42   # For reproducibility         \n",
    "ftest = 0.20    # Fracción de datos para \"train\"\n",
    "\n",
    "X_train, X_test, y_train, y_test = train_test_split(rains_x, rains_y,\n",
    "                                                    test_size=ftest,\n",
    "                                                    stratify=rains_y,\n",
    "                                                    random_state=rnd_seed)\n",
    "\n",
    "print(\"Dimension de X_train:\",X_train.shape)\n",
    "print(\"Valores de y_train:\",y_train.size)\n",
    "print(\"Dimension de X_test:\",X_test.shape)\n",
    "print(\"Valores de y_test:\",len(y_test))\n"
   ]
  },
  {
   "cell_type": "code",
   "execution_count": 4,
   "id": "5c5b8f8f-8304-4752-8672-82b64390cc96",
   "metadata": {
    "collapsed": false,
    "jupyter": {
     "outputs_hidden": false
    }
   },
   "outputs": [],
   "source": [
    "coordinates = pd.read_csv(\"../data/worldcities.csv\")\n",
    "coordinates[\"Location\"] = coordinates[\"city\"]\n",
    "coordinates.drop(columns=[\"city\"], inplace = True)\n",
    "coordinates = coordinates[coordinates[\"country\"] == \"Australia\"]\n",
    "\n",
    "city_coords = {\n",
    "    'Albury': (-36.0785, 146.9136),\n",
    "    'BadgerysCreek': (-33.8813, 150.7282),\n",
    "    'Cobar': (-31.8667, 145.7667),\n",
    "    'CoffsHarbour': (-30.3026, 153.1137),\n",
    "    'Moree': (-29.4706, 149.8392),\n",
    "    'Newcastle': (-32.9283, 151.7817),\n",
    "    'NorahHead': (-33.2202, 151.5433),\n",
    "    'NorfolkIsland': (-29.0408, 167.9541),\n",
    "    'Penrith': (-33.7675, 150.6931),\n",
    "    'Richmond': (-33.5982, 150.7581),\n",
    "    'Sydney': (-33.8688, 151.2093),\n",
    "    'SydneyAirport': (-33.9399, 151.1753),\n",
    "    'WaggaWagga': (-35.0433, 147.3587),\n",
    "    'Williamtown': (-32.7951, 151.8118),\n",
    "    'Wollongong': (-34.4278, 150.8931),\n",
    "    'Canberra': (-35.2809, 149.1300),\n",
    "    'Tuggeranong': (-35.4167, 149.1000),\n",
    "    'MountGinini': (-35.4471, 148.9685),\n",
    "    'Ballarat': (-37.5622, 143.8503),\n",
    "    'Bendigo': (-36.7582, 144.2814),\n",
    "    'Sale': (-38.1100, 147.0737),\n",
    "    'MelbourneAirport': (-37.6692, 144.8411),\n",
    "    'Melbourne': (-37.8136, 144.9631),\n",
    "    'Mildura': (-34.1850, 142.1625),\n",
    "    'Nhil': (-35.2060, 141.6450),\n",
    "    'Portland': (-38.3516, 141.5878),\n",
    "    'Watsonia': (-37.7139, 145.0875),\n",
    "    'Dartmoor': (-37.7251, 141.2843),\n",
    "    'Brisbane': (-27.4698, 153.0251),\n",
    "    'Cairns': (-16.9203, 145.7710),\n",
    "    'GoldCoast': (-28.0167, 153.4000),\n",
    "    'Townsville': (-19.2589, 146.8183),\n",
    "    'Adelaide': (-34.9285, 138.6007),\n",
    "    'MountGambier': (-37.8321, 140.7807),\n",
    "    'Nuriootpa': (-34.4973, 138.9966),\n",
    "    'Woomera': (-31.1395, 136.7984),\n",
    "    'Albany': (-35.0285, 117.8837),\n",
    "    'Witchcliffe': (-33.7015, 115.0911),\n",
    "    'PearceRAAF': (-31.9131, 115.9741),\n",
    "    'PerthAirport': (-31.9402, 115.9676),\n",
    "    'Perth': (-31.9505, 115.8605),\n",
    "    'SalmonGums': (-33.3937, 121.2060),\n",
    "    'Walpole': (-34.9639, 115.8106),\n",
    "    'Hobart': (-42.8821, 147.3272),\n",
    "    'Launceston': (-41.4391, 147.1349),\n",
    "    'AliceSprings': (-23.6980, 133.8807),\n",
    "    'Darwin': (-12.4634, 130.8456),\n",
    "    'Katherine': (-14.4686, 132.2678),\n",
    "    'Uluru': (-25.3444, 131.0369)\n",
    "}"
   ]
  },
  {
   "cell_type": "code",
   "execution_count": 5,
   "id": "204e8ab0-7ea0-4d44-ae78-06bc6873945a",
   "metadata": {
    "collapsed": false,
    "jupyter": {
     "outputs_hidden": false
    }
   },
   "outputs": [
    {
     "name": "stdout",
     "output_type": "stream",
     "text": [
      "Fitting 5 folds for each of 81 candidates, totalling 405 fits\n"
     ]
    },
    {
     "name": "stdout",
     "output_type": "stream",
     "text": [
      "Saving: num-minmax-rf-4631.pkl\n"
     ]
    },
    {
     "name": "stdout",
     "output_type": "stream",
     "text": [
      "Accuracy: 0.8658772438771384\n",
      "\n",
      " Classification Report:\n",
      "               precision    recall  f1-score   support\n",
      "\n",
      "           0       0.88      0.95      0.92     88252\n",
      "           1       0.77      0.57      0.66     25502\n",
      "\n",
      "    accuracy                           0.87    113754\n",
      "   macro avg       0.83      0.76      0.79    113754\n",
      "weighted avg       0.86      0.87      0.86    113754\n",
      "\n",
      "\n",
      " Roc auc Report:\n",
      " 0.7607558949023545\n",
      "{'model_rf__bootstrap': False, 'model_rf__max_depth': None, 'model_rf__min_samples_leaf': 1, 'model_rf__min_samples_split': 2, 'model_rf__n_estimators': 500}\n",
      "0.5920110508153047\n"
     ]
    }
   ],
   "source": [
    "\n",
    "rf_pipeline =  Pipeline(steps = [\n",
    "    (\"rfdate_expander\", ExpandDateTransformer()),\n",
    "    (\"imputer\", HierarchicalImputer()),\n",
    "    (\"rain_today\", RainTodayTransformer()),\n",
    "    (\"coordinates\", CoordinateTransformer(coordinates.drop_duplicates(subset=\"Location\"), city_coords)),\n",
    "    (\"wind_direction\", WindDirectionTransformer()),\n",
    "    (\"drop_directions\", DropColumnsTransformer(columns=[\"WindGustDir\", \"WindDir9am\", \"WindDir3pm\"])),\n",
    "    (\"drop_date_location\", DropColumnsTransformer(columns=[\"Date\",\"Location\"])),\n",
    "    (\"scaler\", MinMaxScaler()),\n",
    "    (\"model_rf\", RandomForestClassifier(random_state=rnd_seed))\n",
    "])\n",
    "\n",
    "rain_today_pipeline = Pipeline(steps = [\n",
    "      (\"rain_today_imputer\", SimpleImputer(fill_value='No', strategy=\"constant\")),\n",
    "      (\"rain_today_print()rizer\", LabelBinarizerPipelineFriendly()),\n",
    "])\n",
    "\n",
    "param_grid = {\n",
    "    'model_rf__n_estimators': [100, 200, 500],  # Number of trees in the forest\n",
    "    'model_rf__max_depth': [None, 10, 20],     # Depth of the trees\n",
    "    'model_rf__min_samples_split': [2, 5, 10], # Minimum samples required to split an internal node\n",
    "    'model_rf__min_samples_leaf': [1, 2, 4],   # Minimum samples required at a leaf node\n",
    "    'model_rf__bootstrap': [False]       # Use bootstrap samples when building trees\n",
    "}\n",
    "\n",
    "clf = GridSearchCV(rf_pipeline, param_grid = param_grid, cv = 5, scoring = 'f1', verbose = 1, n_jobs=12)\n",
    "\n",
    "x,y = sample(X_train, y_train, sample=0.1)\n",
    "gs_fitted = load_or_fit(clf, x, y, name=\"num-minmax-rf\")\n",
    "y_pred = gs_fitted.predict(X_train)\n",
    "report_results(y_train, y_pred)\n",
    "print(gs_fitted.best_params_)\n",
    "print(gs_fitted.best_score_)"
   ]
  },
  {
   "cell_type": "code",
   "execution_count": 18,
   "id": "12487246-b2a9-4501-8b70-0fc6433177e7",
   "metadata": {
    "collapsed": false
   },
   "outputs": [
    {
     "name": "stdout",
     "output_type": "stream",
     "text": [
      "Fitting 5 folds for each of 1 candidates, totalling 5 fits\n",
      "Saving: num-minmax-rf-4331.pkl\n",
      "Accuracy: 0.8647432178209118\n",
      "\n",
      " Classification Report:\n",
      "               precision    recall  f1-score   support\n",
      "\n",
      "           0       0.88      0.95      0.92     88252\n",
      "           1       0.77      0.56      0.65     25502\n",
      "\n",
      "    accuracy                           0.86    113754\n",
      "   macro avg       0.83      0.76      0.78    113754\n",
      "weighted avg       0.86      0.86      0.86    113754\n",
      "\n",
      "\n",
      " Roc auc Report:\n",
      " 0.7562471004875413\n",
      "{'model_rf__bootstrap': False, 'model_rf__max_depth': 20, 'model_rf__min_samples_leaf': 1, 'model_rf__min_samples_split': 2, 'model_rf__n_estimators': 100}\n",
      "0.6041769212542405\n"
     ]
    }
   ],
   "source": [
    "rf_pipeline =  Pipeline(steps = [\n",
    "    (\"rfdate_expander\", ExpandDateTransformer()),\n",
    "    (\"imputer\", HierarchicalImputer()),\n",
    "    (\"rain_today\", RainTodayTransformer()),\n",
    "    (\"coordinates\", CoordinateTransformer(coordinates.drop_duplicates(subset=\"Location\"), city_coords)),\n",
    "    (\"wind_direction\", WindDirectionTransformer()),\n",
    "    (\"drop_directions\", DropColumnsTransformer(columns=[\"WindGustDir\", \"WindDir9am\", \"WindDir3pm\"])),\n",
    "    (\"drop_date_location\", DropColumnsTransformer(columns=[\"Date\",\"Location\"])),\n",
    "    (\"model_rf\", RandomForestClassifier(random_state=rnd_seed))\n",
    "])\n",
    "\n",
    "param_grid = {\n",
    "    'model_rf__n_estimators': [100],  # Number of trees in the forest\n",
    "    'model_rf__max_depth': [20],     # Depth of the trees\n",
    "    'model_rf__min_samples_split': [2], # Minimum samples required to split an internal node\n",
    "    'model_rf__min_samples_leaf': [1],   # Minimum samples required at a leaf node\n",
    "    'model_rf__bootstrap': [False]       # Use bootstrap samples when building trees\n",
    "}\n",
    "\n",
    "clf = GridSearchCV(rf_pipeline, param_grid = param_grid, cv = 5, scoring = 'f1', verbose = 1, n_jobs=12)\n",
    "\n",
    "x,y = sample(X_train, y_train, sample)\n",
    "gs_fitted = load_or_fit(clf, x, y, name=\"num-minmax-rf\", force=True)\n",
    "y_pred = gs_fitted.predict(X_train)\n",
    "report_results(y_train, y_pred)\n",
    "print(gs_fitted.best_params_)\n",
    "print(gs_fitted.best_score_)"
   ]
  },
  {
   "cell_type": "code",
   "execution_count": 1,
   "id": "d38a3e30-6941-4824-b058-d2705ffffa2b",
   "metadata": {
    "collapsed": false,
    "jupyter": {
     "outputs_hidden": false
    }
   },
   "outputs": [
    {
     "ename": "NameError",
     "evalue": "name 'pd' is not defined",
     "output_type": "error",
     "traceback": [
      "\u001b[0;31m---------------------------------------------------------------------------\u001b[0m",
      "\u001b[0;31mNameError\u001b[0m                                 Traceback (most recent call last)",
      "Cell \u001b[0;32mIn[1], line 1\u001b[0m\n\u001b[0;32m----> 1\u001b[0m results \u001b[38;5;241m=\u001b[39m \u001b[43mpd\u001b[49m\u001b[38;5;241m.\u001b[39mDataFrame(gs_fitted\u001b[38;5;241m.\u001b[39mcv_results_)\u001b[38;5;241m.\u001b[39msort_values(by\u001b[38;5;241m=\u001b[39m\u001b[38;5;124m'\u001b[39m\u001b[38;5;124mrank_test_score\u001b[39m\u001b[38;5;124m'\u001b[39m, ascending\u001b[38;5;241m=\u001b[39m\u001b[38;5;28;01mTrue\u001b[39;00m)\n\u001b[1;32m      2\u001b[0m \u001b[38;5;28mprint\u001b[39m(results[results[\u001b[38;5;124m\"\u001b[39m\u001b[38;5;124mrank_test_score\u001b[39m\u001b[38;5;124m\"\u001b[39m] \u001b[38;5;241m<\u001b[39m\u001b[38;5;241m=\u001b[39m \u001b[38;5;241m10\u001b[39m][\u001b[38;5;124m'\u001b[39m\u001b[38;5;124mparams\u001b[39m\u001b[38;5;124m'\u001b[39m]\u001b[38;5;241m.\u001b[39mvalues)\n",
      "\u001b[0;31mNameError\u001b[0m: name 'pd' is not defined"
     ]
    }
   ],
   "source": [
    "results = pd.DataFrame(gs_fitted.cv_results_).sort_values(by='rank_test_score', ascending=True)\n",
    "print(results[results[\"rank_test_score\"] <= 10]['params'].values)"
   ]
  },
  {
   "cell_type": "code",
   "execution_count": null,
   "id": "a34ca662-2d2e-4d8a-a5b1-59b5763f5f60",
   "metadata": {
    "collapsed": false
   },
   "outputs": [],
   "source": [
    "from sklearn import tree\n",
    "plt.figure(figsize=(25,25))\n",
    "tree.plot_tree(gs_fitted.best_estimator_.named_steps['model_rf'].estimators_[0], max_depth=3, feature_names=['MinTemp', 'MaxTemp', 'Rainfall', 'Evaporation', 'Sunshine',\n",
    "       'WindGustSpeed', 'WindSpeed9am', 'WindSpeed3pm', 'Humidity9am',\n",
    "       'Humidity3pm', 'Pressure9am', 'Pressure3pm', 'Cloud9am', 'Cloud3pm',\n",
    "       'Temp9am', 'Temp3pm', 'RainToday', 'Year', 'Month', 'RainTodayNull',\n",
    "       'lat', 'lng', 'WindGustDirDegSin', 'WindDir9amDegSin', 'WindDir3pmDegSin',\n",
    "       'WindGustDirDegSin', 'WindDir9amDegSin', 'WindDir3pmDegSin'])"
   ]
  },
  {
   "cell_type": "code",
   "execution_count": 8,
   "id": "7ed2ebc4-aa7a-4b55-a51c-5f87ee3b489e",
   "metadata": {
    "collapsed": false
   },
   "outputs": [
    {
     "name": "stdout",
     "output_type": "stream",
     "text": [
      "Fitting 5 folds for each of 81 candidates, totalling 405 fits\n"
     ]
    },
    {
     "name": "stdout",
     "output_type": "stream",
     "text": [
      "Saving: num-minmax-rf-9373.pkl\n"
     ]
    },
    {
     "name": "stdout",
     "output_type": "stream",
     "text": [
      "Accuracy: 0.863855336955184\n",
      "\n",
      " Classification Report:\n",
      "               precision    recall  f1-score   support\n",
      "\n",
      "           0       0.87      0.96      0.92     88252\n",
      "           1       0.80      0.52      0.63     25502\n",
      "\n",
      "    accuracy                           0.86    113754\n",
      "   macro avg       0.84      0.74      0.77    113754\n",
      "weighted avg       0.86      0.86      0.85    113754\n",
      "\n",
      "\n",
      " Roc auc Report:\n",
      " 0.7429191245581233\n",
      "{'model_rf__bootstrap': False, 'model_rf__max_depth': None, 'model_rf__min_samples_leaf': 1, 'model_rf__min_samples_split': 2, 'model_rf__n_estimators': 200}\n",
      "0.5740949891606003\n"
     ]
    }
   ],
   "source": [
    "categorical_transformer = Pipeline(steps=[\n",
    "    (\"onehot\", OneHotEncoder(handle_unknown=\"ignore\", drop=\"first\"))\n",
    "])\n",
    "\n",
    "numerical_transformer = Pipeline(steps=[\n",
    "    (\"minmax\", MinMaxScaler())\n",
    "])\n",
    "\n",
    "\n",
    "transform_columns = ColumnTransformer(\n",
    "    transformers=[\n",
    "        (\"cat\", categorical_transformer, [\"Location\",\"WindGustDir\", \"WindDir9am\", \"WindDir3pm\"]),\n",
    "        (\"num\", numerical_transformer, ['MinTemp', 'MaxTemp', 'Rainfall', 'Evaporation',\n",
    "       'Sunshine', 'WindGustSpeed',\n",
    "       'WindSpeed9am', 'WindSpeed3pm', 'Humidity9am', 'Humidity3pm',\n",
    "       'Pressure9am', 'Pressure3pm', 'Cloud9am', 'Cloud3pm', 'Temp9am',\n",
    "       'Temp3pm', 'Year', 'Month'])\n",
    "    ]\n",
    ")\n",
    "\n",
    "\n",
    "ohe_pipeline = Pipeline(steps = [\n",
    "    (\"date_expander\", ExpandDateTransformer()),\n",
    "    (\"imputer\", HierarchicalImputer()),\n",
    "    (\"rain_today\", RainTodayTransformer()),\n",
    "    (\"drop_date\", DropColumnsTransformer(columns=[\"Date\"])),\n",
    "    (\"preproc\", transform_columns),\n",
    "    (\"model_rf\", RandomForestClassifier(random_state=rnd_seed))\n",
    "], memory=\"pipeline_cache\")\n",
    "\n",
    "param_grid = {\n",
    "    'model_rf__n_estimators': [100, 200, 500],  # Number of trees in the forest\n",
    "    'model_rf__max_depth': [None, 10, 20],     # Depth of the trees\n",
    "    'model_rf__min_samples_split': [2, 5, 10], # Minimum samples required to split an internal node\n",
    "    'model_rf__min_samples_leaf': [1, 2, 4],   # Minimum samples required at a leaf node\n",
    "    'model_rf__bootstrap': [False]       # Use bootstrap samples when building trees\n",
    "}\n",
    "\n",
    "\n",
    "clf = GridSearchCV(ohe_pipeline, param_grid = param_grid, cv = 5, scoring = 'f1', verbose = 1, n_jobs=12)\n",
    "\n",
    "x,y = sample(X_train, y_train, sample=0.1)\n",
    "gs_fitted = load_or_fit(clf, x, y, name=\"num-minmax-rf\")\n",
    "y_pred = gs_fitted.predict(X_train)\n",
    "report_results(y_train, y_pred)\n",
    "print(gs_fitted.best_params_)\n",
    "print(gs_fitted.best_score_)"
   ]
  },
  {
   "cell_type": "code",
   "execution_count": 5,
   "id": "621ec022-e85e-45b0-b08a-ea92f2fa8aac",
   "metadata": {
    "collapsed": false
   },
   "outputs": [
    {
     "name": "stdout",
     "output_type": "stream",
     "text": [
      "Fitting 5 folds for each of 108 candidates, totalling 540 fits\n"
     ]
    },
    {
     "name": "stdout",
     "output_type": "stream",
     "text": [
      "Saving: num-minmax-rf-1705.pkl\n"
     ]
    },
    {
     "name": "stdout",
     "output_type": "stream",
     "text": [
      "Accuracy: 0.792482022610194\n",
      "\n",
      " Classification Report:\n",
      "               precision    recall  f1-score   support\n",
      "\n",
      "           0       0.92      0.81      0.86     88252\n",
      "           1       0.53      0.75      0.62     25502\n",
      "\n",
      "    accuracy                           0.79    113754\n",
      "   macro avg       0.72      0.78      0.74    113754\n",
      "weighted avg       0.83      0.79      0.80    113754\n",
      "\n",
      "\n",
      " Roc auc Report:\n",
      " 0.7769537912146569\n",
      "{'model_bag_log__bootstrap': False, 'model_bag_log__bootstrap_features': False, 'model_bag_log__max_features': 1.0, 'model_bag_log__max_samples': 1.0, 'model_bag_log__n_estimators': 10}\n",
      "0.6314680163158556\n"
     ]
    }
   ],
   "source": [
    "bag_pipeline =  Pipeline(steps = [\n",
    "    (\"date_expander\", ExpandDateTransformer()),\n",
    "    (\"imputer\", HierarchicalImputer()),\n",
    "    (\"rain_today\", RainTodayTransformer()),\n",
    "    (\"coordinates\", CoordinateTransformer(coordinates.drop_duplicates(subset=\"Location\"), city_coords)),\n",
    "    (\"wind_direction\", WindDirectionTransformer()),\n",
    "    (\"drop_directions\", DropColumnsTransformer(columns=[\"WindGustDir\", \"WindDir9am\", \"WindDir3pm\"])),\n",
    "    (\"drop_date_location\", DropColumnsTransformer(columns=[\"Date\",\"Location\"])),\n",
    "    (\"scaler\", MinMaxScaler()),\n",
    "    (\"model_bag_log\", BaggingClassifier(\n",
    "        estimator=LogisticRegression(max_iter=1000, random_state=42, class_weight={1: 0.75, 0: 0.25}, penalty='l2'),\n",
    "        n_estimators=10,\n",
    "        random_state=42\n",
    "    )),\n",
    "])\n",
    "\n",
    "param_grid = {\n",
    "    'model_bag_log__n_estimators': [10, 20, 50],       # Number of base estimators\n",
    "    'model_bag_log__max_samples': [0.5, 0.75, 1.0],   # Proportion of samples for training each base estimator\n",
    "    'model_bag_log__max_features': [0.5, 0.75, 1.0],  # Proportion of features for training each base estimator\n",
    "    'model_bag_log__bootstrap': [True, False],        # Bootstrap sampling\n",
    "    'model_bag_log__bootstrap_features': [True, False] # Bootstrap sampling for features\n",
    "}\n",
    "\n",
    "clf = GridSearchCV(bag_pipeline, param_grid = param_grid, cv = 5, scoring = 'f1', verbose = 1, n_jobs=12)\n",
    "\n",
    "x,y = sample(X_train, y_train, sample=0.1)\n",
    "gs_fitted = load_or_fit(clf, x, y, name=\"num-minmax-rf\")\n",
    "y_pred = gs_fitted.predict(X_train)\n",
    "report_results(y_train, y_pred)\n",
    "print(gs_fitted.best_params_)\n",
    "print(gs_fitted.best_score_)"
   ]
  }
 ],
 "metadata": {
  "kernelspec": {
   "argv": [
    "python",
    "-m",
    "ipykernel_launcher",
    "-f",
    "{connection_file}"
   ],
   "display_name": "Python 3 (ipykernel)",
   "env": null,
   "interrupt_mode": "signal",
   "language": "python",
   "metadata": {
    "debugger": true
   },
   "name": "python3"
  },
  "language_info": {
   "codemirror_mode": {
    "name": "ipython",
    "version": 3
   },
   "file_extension": ".py",
   "mimetype": "text/x-python",
   "name": "python",
   "nbconvert_exporter": "python",
   "pygments_lexer": "ipython3",
   "version": "3.11.6"
  },
  "name": "ensamble.ipynb"
 },
 "nbformat": 4,
 "nbformat_minor": 5
}
