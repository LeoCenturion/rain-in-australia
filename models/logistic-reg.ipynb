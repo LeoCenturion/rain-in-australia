{
 "cells": [
  {
   "cell_type": "code",
   "execution_count": 2,
   "id": "ee78092b-eac3-4e9e-8034-3a1db4bd9279",
   "metadata": {
    "collapsed": false
   },
   "outputs": [
    {
     "name": "stdout",
     "output_type": "stream",
     "text": [
      "The autoreload extension is already loaded. To reload it, use:\n",
      "  %reload_ext autoreload\n"
     ]
    }
   ],
   "source": [
    "%load_ext autoreload\n",
    "%autoreload 2"
   ]
  },
  {
   "cell_type": "code",
   "execution_count": 36,
   "id": "56a0b540-f6f0-4abb-b073-d3d70625f037",
   "metadata": {
    "collapsed": false
   },
   "outputs": [],
   "source": [
    "from pipeline import eval_pipeline, HierarchicalImputer, CoordinateTransformer, WindDirectionTransformer, DropColumnsTransformer, RainTodayTransformer, ExpandDateTransformer, sample, report_results\n",
    "from persistence import load_or_fit\n",
    "# For data manipulation\n",
    "import pandas as pd\n",
    "import numpy as np\n",
    "import pandas as pd\n",
    "# For visualization\n",
    "import seaborn as sns\n",
    "import matplotlib.pyplot as plt\n",
    "from sklearn.model_selection import train_test_split\n",
    "from sklearn.pipeline import Pipeline\n",
    "from sklearn.preprocessing import MinMaxScaler\n",
    "from sklearn.linear_model import LogisticRegression\n",
    "from sklearn.preprocessing import OneHotEncoder\n",
    "from sklearn.compose import ColumnTransformer\n",
    "from sklearn.preprocessing import StandardScaler\n",
    "from sklearn import svm, datasets\n",
    "from sklearn.model_selection import GridSearchCV\n",
    "import joblib"
   ]
  },
  {
   "cell_type": "code",
   "execution_count": 4,
   "id": "6d8c9618-767e-4ec6-bb7f-a45808459895",
   "metadata": {
    "collapsed": false
   },
   "outputs": [
    {
     "name": "stdout",
     "output_type": "stream",
     "text": [
      "Dimension de X_train: (113754, 22)\n",
      "Valores de y_train: 113754\n",
      "Dimension de X_test: (28439, 22)\n",
      "Valores de y_test: 28439\n"
     ]
    }
   ],
   "source": [
    "rains = pd.read_csv('../data/weatherAUS.csv')\n",
    "rains = rains.dropna(subset=['RainTomorrow'])\n",
    "# Convierto la variable 'Date' a formato tipo \"datetime\" de Pandas\n",
    "\n",
    "rains_x = rains.drop(columns=['RainTomorrow'])  # Drop the target column from features\n",
    "rains_y = np.where(rains['RainTomorrow'] == \"Yes\", 1, 0)                 # Target variable\n",
    "\n",
    "# Split the dataset\n",
    "rnd_seed = 42   # For reproducibility         \n",
    "ftest = 0.20    # Fracción de datos para \"train\"\n",
    "\n",
    "X_train, X_test, y_train, y_test = train_test_split(rains_x, rains_y,\n",
    "                                                    test_size=ftest,\n",
    "                                                    stratify=rains_y,\n",
    "                                                    random_state=rnd_seed)\n",
    "\n",
    "print(\"Dimension de X_train:\",X_train.shape)\n",
    "print(\"Valores de y_train:\",y_train.size)\n",
    "print(\"Dimension de X_test:\",X_test.shape)\n",
    "print(\"Valores de y_test:\",len(y_test))"
   ]
  },
  {
   "cell_type": "code",
   "execution_count": 31,
   "id": "60d6a3c0-5e2d-4ab0-a75b-9e352b201a6c",
   "metadata": {
    "collapsed": false
   },
   "outputs": [],
   "source": []
  },
  {
   "cell_type": "code",
   "execution_count": 5,
   "id": "f799c24c-077b-4405-a115-561e08fefe97",
   "metadata": {
    "collapsed": false
   },
   "outputs": [],
   "source": [
    "coordinates = pd.read_csv(\"../data/worldcities.csv\")\n",
    "coordinates[\"Location\"] = coordinates[\"city\"]\n",
    "coordinates.drop(columns=[\"city\"], inplace = True)\n",
    "coordinates = coordinates[coordinates[\"country\"] == \"Australia\"]\n",
    "\n",
    "city_coords = {\n",
    "    'Albury': (-36.0785, 146.9136),\n",
    "    'BadgerysCreek': (-33.8813, 150.7282),\n",
    "    'Cobar': (-31.8667, 145.7667),\n",
    "    'CoffsHarbour': (-30.3026, 153.1137),\n",
    "    'Moree': (-29.4706, 149.8392),\n",
    "    'Newcastle': (-32.9283, 151.7817),\n",
    "    'NorahHead': (-33.2202, 151.5433),\n",
    "    'NorfolkIsland': (-29.0408, 167.9541),\n",
    "    'Penrith': (-33.7675, 150.6931),\n",
    "    'Richmond': (-33.5982, 150.7581),\n",
    "    'Sydney': (-33.8688, 151.2093),\n",
    "    'SydneyAirport': (-33.9399, 151.1753),\n",
    "    'WaggaWagga': (-35.0433, 147.3587),\n",
    "    'Williamtown': (-32.7951, 151.8118),\n",
    "    'Wollongong': (-34.4278, 150.8931),\n",
    "    'Canberra': (-35.2809, 149.1300),\n",
    "    'Tuggeranong': (-35.4167, 149.1000),\n",
    "    'MountGinini': (-35.4471, 148.9685),\n",
    "    'Ballarat': (-37.5622, 143.8503),\n",
    "    'Bendigo': (-36.7582, 144.2814),\n",
    "    'Sale': (-38.1100, 147.0737),\n",
    "    'MelbourneAirport': (-37.6692, 144.8411),\n",
    "    'Melbourne': (-37.8136, 144.9631),\n",
    "    'Mildura': (-34.1850, 142.1625),\n",
    "    'Nhil': (-35.2060, 141.6450),\n",
    "    'Portland': (-38.3516, 141.5878),\n",
    "    'Watsonia': (-37.7139, 145.0875),\n",
    "    'Dartmoor': (-37.7251, 141.2843),\n",
    "    'Brisbane': (-27.4698, 153.0251),\n",
    "    'Cairns': (-16.9203, 145.7710),\n",
    "    'GoldCoast': (-28.0167, 153.4000),\n",
    "    'Townsville': (-19.2589, 146.8183),\n",
    "    'Adelaide': (-34.9285, 138.6007),\n",
    "    'MountGambier': (-37.8321, 140.7807),\n",
    "    'Nuriootpa': (-34.4973, 138.9966),\n",
    "    'Woomera': (-31.1395, 136.7984),\n",
    "    'Albany': (-35.0285, 117.8837),\n",
    "    'Witchcliffe': (-33.7015, 115.0911),\n",
    "    'PearceRAAF': (-31.9131, 115.9741),\n",
    "    'PerthAirport': (-31.9402, 115.9676),\n",
    "    'Perth': (-31.9505, 115.8605),\n",
    "    'SalmonGums': (-33.3937, 121.2060),\n",
    "    'Walpole': (-34.9639, 115.8106),\n",
    "    'Hobart': (-42.8821, 147.3272),\n",
    "    'Launceston': (-41.4391, 147.1349),\n",
    "    'AliceSprings': (-23.6980, 133.8807),\n",
    "    'Darwin': (-12.4634, 130.8456),\n",
    "    'Katherine': (-14.4686, 132.2678),\n",
    "    'Uluru': (-25.3444, 131.0369)\n",
    "}"
   ]
  },
  {
   "cell_type": "markdown",
   "id": "324f6fee-28b5-4aad-bd25-74eb8d9d762b",
   "metadata": {
    "collapsed": false
   },
   "source": [
    "# Categorical => numerical\n",
    "\n",
    "Se transforman las direcciones cardinales en grados, ej NE -> 0.22\n",
    "\n",
    "Se transforma la ubicacion (Location) en latitud y longitud, ej Albury => (-36.0785, 146.9136)"
   ]
  },
  {
   "cell_type": "code",
   "execution_count": 37,
   "id": "f9e4d37a-1117-4332-871e-dfd2c816965e",
   "metadata": {
    "collapsed": false
   },
   "outputs": [
    {
     "name": "stdout",
     "output_type": "stream",
     "text": [
      "Fitting 3 folds for each of 4 candidates, totalling 12 fits\n"
     ]
    },
    {
     "name": "stdout",
     "output_type": "stream",
     "text": [
      "Saving: num-minmax-logit-5745.pkl\n",
      "{'logistic_regression__class_weight': 'balanced', 'logistic_regression__penalty': 'l2', 'minmax': MinMaxScaler()}\n",
      "0.46817618050609866\n"
     ]
    }
   ],
   "source": [
    "num_minmax_logit =  Pipeline(steps = [\n",
    "    (\"date_expander\", ExpandDateTransformer()),\n",
    "    (\"imputer\", HierarchicalImputer()),\n",
    "    (\"rain_today\", RainTodayTransformer()),\n",
    "    (\"coordinates\", CoordinateTransformer(coordinates.drop_duplicates(subset=\"Location\"), city_coords)),\n",
    "    (\"wind_direction\", WindDirectionTransformer()),\n",
    "    (\"drop_directions\", DropColumnsTransformer(columns=[\"WindGustDir\", \"WindDir9am\", \"WindDir3pm\"])),\n",
    "    (\"drop_date_location\", DropColumnsTransformer(columns=[\"Date\",\"Location\"])),\n",
    "    (\"scaler\", MinMaxScaler()),\n",
    "    (\"logistic_regression\", LogisticRegression())\n",
    "])\n",
    "\n",
    "\n",
    "parameters = {\n",
    "    'scaler': [MinMaxScaler(), StandardScaler()],\n",
    "    'logistic_regression__class_weight':['balanced', {1: '0.25', 0: '0.75'}],\n",
    "    'logistic_regression__penalty':['l2']\n",
    "}\n",
    "\n",
    "clf = GridSearchCV(num_minmax_logit, param_grid = parameters, cv = 5, scoring = 'f1', verbose = 1, n_jobs=12)\n",
    "\n",
    "x,y = sample(X_train, y_train, sample=0.1)\n",
    "gs_fitted = load_or_fit(clf, x, y, name=\"num-minmax-logit\", force=True)\n",
    "print(gs_fitted.best_params_)\n",
    "print(gs_fitted.best_score_)"
   ]
  },
  {
   "cell_type": "code",
   "execution_count": 30,
   "id": "102fa776-4180-4608-b38d-ca5c9c310050",
   "metadata": {
    "collapsed": false
   },
   "outputs": [
    {
     "name": "stdout",
     "output_type": "stream",
     "text": [
      "Accuracy: 0.7043620444116251\n",
      "\n",
      " Classification Report:\n",
      "               precision    recall  f1-score   support\n",
      "\n",
      "           0       0.86      0.74      0.79     88252\n",
      "           1       0.39      0.60      0.47     25502\n",
      "\n",
      "    accuracy                           0.70    113754\n",
      "   macro avg       0.63      0.67      0.63    113754\n",
      "weighted avg       0.76      0.70      0.72    113754\n",
      "\n",
      "\n",
      " Roc auc Report:\n",
      " 0.6659185690659837\n"
     ]
    }
   ],
   "source": [
    "report_results(y_train, gs_fitted.predict(X_train))"
   ]
  },
  {
   "cell_type": "markdown",
   "id": "ef0df0f6-942d-4a38-a5d6-dcb024ac3cd7",
   "metadata": {
    "collapsed": false
   },
   "source": [
    "# One hot encoding categorical features\n"
   ]
  },
  {
   "cell_type": "code",
   "execution_count": 18,
   "id": "efa0c69f-c0b5-4d49-846d-5d4b8a4eaeee",
   "metadata": {
    "collapsed": false
   },
   "outputs": [],
   "source": [
    "\n",
    "\n",
    "categorical_transformer = Pipeline(steps=[\n",
    "    (\"onehot\", OneHotEncoder(handle_unknown=\"ignore\", drop=\"first\"))\n",
    "])\n",
    "\n",
    "numerical_transformer = Pipeline(steps=[\n",
    "    (\"minmax\", StandardScaler())\n",
    "])\n",
    "\n",
    "\n",
    "transform_columns = ColumnTransformer(\n",
    "    transformers=[\n",
    "        (\"cat\", categorical_transformer, [\"Location\",\"WindGustDir\", \"WindDir9am\", \"WindDir3pm\"]),\n",
    "        (\"num\", numerical_transformer, ['MinTemp', 'MaxTemp', 'Rainfall', 'Evaporation',\n",
    "       'Sunshine', 'WindGustSpeed',\n",
    "       'WindSpeed9am', 'WindSpeed3pm', 'Humidity9am', 'Humidity3pm',\n",
    "       'Pressure9am', 'Pressure3pm', 'Cloud9am', 'Cloud3pm', 'Temp9am',\n",
    "       'Temp3pm', 'Year', 'Month'])\n",
    "    ]\n",
    ")\n",
    "\n",
    "\n",
    "ohe_pipeline = Pipeline(steps = [\n",
    "    (\"date_expander\", ExpandDateTransformer()),\n",
    "    (\"imputer\", HierarchicalImputer()),\n",
    "    (\"rain_today\", RainTodayTransformer()),\n",
    "    (\"drop_date\", DropColumnsTransformer(columns=[\"Date\"])),\n",
    "    (\"preproc\", transform_columns),\n",
    "    (\"logistic_regression\", LogisticRegression())\n",
    "], memory=\"pipeline_cache\")\n"
   ]
  },
  {
   "cell_type": "code",
   "execution_count": 19,
   "id": "2b5ca7de-feaa-42b8-b564-3a14ab793d2a",
   "metadata": {
    "collapsed": false
   },
   "outputs": [],
   "source": [
    "parameters = {\n",
    "    'logistic_regression__class_weight':['balanced', {'1': '0.25', '0': '0.75'}],\n",
    "    'logistic_regression__penalty':['l1','l2']\n",
    "}\n",
    "clf = GridSearchCV(ohe_pipeline, param_grid = parameters, cv = 5, scoring = 'f1', verbose = 1, n_jobs=12)\n",
    "\n",
    "x,y = sample(X_train, y_train)\n",
    "gs_fitted = load_or_fit(clf, x, y, name=\"ohe-logit\")\n"
   ]
  },
  {
   "cell_type": "code",
   "execution_count": 38,
   "id": "f69a08e4-59af-4112-9660-da1758b0d417",
   "metadata": {
    "collapsed": false
   },
   "outputs": [
    {
     "name": "stdout",
     "output_type": "stream",
     "text": [
      "{'logistic_regression__class_weight': 'balanced', 'logistic_regression__penalty': 'l2'}\n",
      "0.40952610315967997\n",
      "make_scorer(f1_score, response_method='predict', average=binary)\n"
     ]
    }
   ],
   "source": [
    "print(gs_fitted.best_params_)\n",
    "print(gs_fitted.best_score_)\n",
    "print(gs_fitted.scorer_)"
   ]
  },
  {
   "cell_type": "code",
   "execution_count": 40,
   "id": "6578c88e-b10e-438a-8c4d-1738c7ee4524",
   "metadata": {
    "collapsed": false
   },
   "outputs": [
    {
     "name": "stdout",
     "output_type": "stream",
     "text": [
      "Accuracy: 0.603600752501011\n",
      "\n",
      " Classification Report:\n",
      "               precision    recall  f1-score   support\n",
      "\n",
      "           0       0.84      0.60      0.70     88252\n",
      "           1       0.31      0.61      0.41     25502\n",
      "\n",
      "    accuracy                           0.60    113754\n",
      "   macro avg       0.57      0.61      0.55    113754\n",
      "weighted avg       0.72      0.60      0.64    113754\n",
      "\n",
      "\n",
      " Roc auc Report:\n",
      " 0.6055102620644734\n"
     ]
    }
   ],
   "source": [
    "report_results(y_train, gs_fitted.predict(X_train))"
   ]
  }
 ],
 "metadata": {
  "kernelspec": {
   "argv": [
    "python",
    "-m",
    "ipykernel_launcher",
    "-f",
    "{connection_file}"
   ],
   "display_name": "Python 3 (ipykernel)",
   "env": null,
   "interrupt_mode": "signal",
   "language": "python",
   "metadata": {
    "debugger": true
   },
   "name": "python3"
  },
  "name": "logistic-reg.ipynb"
 },
 "nbformat": 4,
 "nbformat_minor": 5
}
